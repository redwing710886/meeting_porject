{
 "cells": [
  {
   "cell_type": "code",
   "execution_count": 1,
   "metadata": {
    "collapsed": false
   },
   "outputs": [
    {
     "name": "stdout",
     "output_type": "stream",
     "text": [
      "319\n",
      "16\n",
      "預期,怕,猜想,會,疑心,不至於,或許,可想,臆測,不盡然,預料,不見得,可望,猜,預計,懷疑,猜測,敢情,未必,推測,恐怕,揣測,恐,料想,不致,說不定,未嘗,莫非,要,將,可能,豈,想,也許,大概,難不成,預測,難保,估計,難道,難說,搞不好,估量,勢將,肯定,判斷,一定,準,研判,無疑,想必,絕然,當,自然,注定,必將,相信,定,料定,堅信,應該,自當,認定,免不了,確然,絕對,推斷,勢必,斷定,穩,該,難免,推論,鐵定,自,未免,絕,斷,必定,想當然,八成,篤定,預斷,簡直,諒,深信,應當,定然,當然,必然,不免,必,不信,無非,以為,確信,認為,當真,究竟,著實,實在,明明,分明,真,確定,誠然,是,真的,確實,委實,確,的確,到底,覺得,似乎,恍若,看來,依稀,好似,儼然,感覺,顯然,疑似,恍如,彷彿,顯得,看似,好像,看,據聞,據悉,據說,謠傳,據報,傳說,傳聞,聽說,耳聞,外傳,傳言,風聞,聽聞,許,可以,行,得以,犯不著,不必,無庸,無須,任憑,不妨,得,准許,默許,免,不用,不克,容,成,何妨,可,毋須,放任,甭,能,讓,無妨,大可,同意,容許,好,不打緊,准,允許,能夠,無法,不許,用不著,自應,強迫,必當,務須,莫,須得,逼,犯得著,勿,何須,叫,逼迫,最好,命令,用得著,理當,切莫,務,理應,理該,非得,必須,需要,切勿,別,應,須,該當,必得,何必,務必,要緊,要求,包準,打包票,保證,擔保,包管,應允,允諾,包,承諾,不足,足以,夠,堪,足夠,無可,配,寧願,肯,甘於,堅持,不甘,敢於,樂於,甘心,巴不得,樂意,指望,祈盼,勇於,敢,願,但願,期望,企盼,巴望,決心,甘願,試圖,企圖,盼望,願意,力圖,懶得,執意,盼,膽敢,期盼,硬要,期待,寧可,寧肯,希望,渴望,決意,恨不得,不屑,想要,期許,無意,無心,企望,不圖,情願,料到,竟,難怪,怪不得,未料,終歸,果,甚至,不想,反倒,想不到,訝異,果真,果然,反而,終究,沒想到,畢竟,竟然,不料,驚料,甚而,無怪乎,居然,無怪,料中,原來,幸虧,遺憾,後悔,好在,虧,惋惜,可惜,幸好,還好,總算,悔恨,懊悔,多虧,慶幸,幸而,虧得,難得\n"
     ]
    }
   ],
   "source": [
    "#2017/3/19 尋找情態詞後動詞種類\n",
    "#資料庫：平衡語料庫\n",
    "import codecs\n",
    "import os\n",
    "from collections import defaultdict\n",
    "import time\n",
    "\n",
    "SC_path = \"D:\\\\課業相關\\\\論文資料\\\\SCS2\\\\\"\n",
    "modal_path = \"D:\\\\課業相關\\\\論文資料\\\\謝佳玲情態詞\\\\\"\n",
    "out_path = \"C:\\\\Users\\\\user\\\\Desktop\\\\\"\n",
    "\n",
    "modal = []\n",
    "no_modal = []\n",
    "with codecs.open(modal_path+'word.txt','rb','utf8') as f:\n",
    "    content = f.readlines()\n",
    "    for i in content:\n",
    "        if i.strip() != '':\n",
    "            modal.append(i.strip())\n",
    "with codecs.open(modal_path+'no.txt','rb','utf8') as f:\n",
    "    content = f.readlines()\n",
    "    for i in content:\n",
    "        if i.strip() != '':\n",
    "            no_modal.append(i.strip())\n",
    "print (len(modal))\n",
    "print (len(no_modal))\n",
    "\n",
    "print (','.join(modal))"
   ]
  },
  {
   "cell_type": "code",
   "execution_count": 13,
   "metadata": {
    "collapsed": false
   },
   "outputs": [
    {
     "name": "stdout",
     "output_type": "stream",
     "text": [
      "1000\n",
      "2000\n",
      "3000\n",
      "4000\n",
      "5000\n",
      "6000\n",
      "7000\n",
      "8000\n",
      "9000\n",
      "10000\n",
      "11000\n",
      "12000\n",
      "13000\n",
      "14000\n",
      "15000\n",
      "16000\n",
      "17000\n",
      "18000\n",
      "19000\n",
      "END\n"
     ]
    }
   ],
   "source": [
    "#尋找符合規則的組合及頻率\n",
    "modal_fre = defaultdict(int)\n",
    "\n",
    "count = 0\n",
    "for file in os.listdir(SC_path):\n",
    "    \n",
    "    count += 1\n",
    "    if count % 1000 == 0:\n",
    "        print (count)\n",
    "    \n",
    "    with codecs.open(SC_path+file,'rb','utf8') as f:\n",
    "        header = f.readline()\n",
    "        content = f.readline().strip().split()\n",
    "        \n",
    "        for i in range(len(content)-1):\n",
    "            if content[i].split('(')[0] not in no_modal and content[i].split('(')[0] in modal \\\n",
    "            and 'CATEGORY' not in content[i+1].split('(')[1] and content[i+1].split('(')[1][0] == 'V':\n",
    "                modal_fre[content[i]+content[i+1]] += 1\n",
    "                \n",
    "answer_modal_fre = sorted(modal_fre.items(), key=lambda d:d[1], reverse = True)\n",
    "\n",
    "with codecs.open(out_path+'modal_fre2.csv','wb','utf8') as g:\n",
    "    for i in answer_modal_fre:\n",
    "        g.write(i[0]+','+str(i[1])+'\\r\\n')\n",
    "print ('END')"
   ]
  }
 ],
 "metadata": {
  "kernelspec": {
   "display_name": "Python 3",
   "language": "python",
   "name": "python3"
  },
  "language_info": {
   "codemirror_mode": {
    "name": "ipython",
    "version": 3
   },
   "file_extension": ".py",
   "mimetype": "text/x-python",
   "name": "python",
   "nbconvert_exporter": "python",
   "pygments_lexer": "ipython3",
   "version": "3.5.2"
  }
 },
 "nbformat": 4,
 "nbformat_minor": 0
}
