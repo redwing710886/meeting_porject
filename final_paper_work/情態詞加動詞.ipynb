{
 "cells": [
  {
   "cell_type": "code",
   "execution_count": 12,
   "metadata": {
    "collapsed": false
   },
   "outputs": [
    {
     "name": "stdout",
     "output_type": "stream",
     "text": [
      "319\n",
      "16\n"
     ]
    }
   ],
   "source": [
    "#2017/3/19 尋找情態詞後動詞種類\n",
    "#資料庫：平衡語料庫\n",
    "import codecs\n",
    "import os\n",
    "from collections import defaultdict\n",
    "import time\n",
    "\n",
    "SC_path = \"D:\\\\課業相關\\\\論文資料\\\\SCS2\\\\\"\n",
    "modal_path = \"D:\\\\課業相關\\\\論文資料\\\\謝佳玲情態詞\\\\\"\n",
    "out_path = \"C:\\\\Users\\\\user\\\\Desktop\\\\\"\n",
    "\n",
    "modal = []\n",
    "no_modal = []\n",
    "with codecs.open(modal_path+'word.txt','rb','utf8') as f:\n",
    "    content = f.readlines()\n",
    "    for i in content:\n",
    "        if i.strip() != '':\n",
    "            modal.append(i.strip())\n",
    "with codecs.open(modal_path+'no.txt','rb','utf8') as f:\n",
    "    content = f.readlines()\n",
    "    for i in content:\n",
    "        if i.strip() != '':\n",
    "            no_modal.append(i.strip())\n",
    "print (len(modal))\n",
    "print (len(no_modal))"
   ]
  },
  {
   "cell_type": "code",
   "execution_count": 13,
   "metadata": {
    "collapsed": false
   },
   "outputs": [
    {
     "name": "stdout",
     "output_type": "stream",
     "text": [
      "1000\n",
      "2000\n",
      "3000\n",
      "4000\n",
      "5000\n",
      "6000\n",
      "7000\n",
      "8000\n",
      "9000\n",
      "10000\n",
      "11000\n",
      "12000\n",
      "13000\n",
      "14000\n",
      "15000\n",
      "16000\n",
      "17000\n",
      "18000\n",
      "19000\n",
      "END\n"
     ]
    }
   ],
   "source": [
    "#尋找符合規則的組合及頻率\n",
    "modal_fre = defaultdict(int)\n",
    "\n",
    "count = 0\n",
    "for file in os.listdir(SC_path):\n",
    "    \n",
    "    count += 1\n",
    "    if count % 1000 == 0:\n",
    "        print (count)\n",
    "    \n",
    "    with codecs.open(SC_path+file,'rb','utf8') as f:\n",
    "        header = f.readline()\n",
    "        content = f.readline().strip().split()\n",
    "        \n",
    "        for i in range(len(content)-1):\n",
    "            if content[i].split('(')[0] not in no_modal and content[i].split('(')[0] in modal \\\n",
    "            and 'CATEGORY' not in content[i+1].split('(')[1] and content[i+1].split('(')[1][0] == 'V':\n",
    "                modal_fre[content[i]+content[i+1]] += 1\n",
    "                \n",
    "answer_modal_fre = sorted(modal_fre.items(), key=lambda d:d[1], reverse = True)\n",
    "\n",
    "with codecs.open(out_path+'modal_fre2.csv','wb','utf8') as g:\n",
    "    for i in answer_modal_fre:\n",
    "        g.write(i[0]+','+str(i[1])+'\\r\\n')\n",
    "print ('END')"
   ]
  }
 ],
 "metadata": {
  "kernelspec": {
   "display_name": "Python 3",
   "language": "python",
   "name": "python3"
  },
  "language_info": {
   "codemirror_mode": {
    "name": "ipython",
    "version": 3
   },
   "file_extension": ".py",
   "mimetype": "text/x-python",
   "name": "python",
   "nbconvert_exporter": "python",
   "pygments_lexer": "ipython3",
   "version": "3.5.2"
  }
 },
 "nbformat": 4,
 "nbformat_minor": 0
}
