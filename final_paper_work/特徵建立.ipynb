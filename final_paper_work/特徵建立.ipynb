{
 "cells": [
  {
   "cell_type": "code",
   "execution_count": 1,
   "metadata": {
    "collapsed": true
   },
   "outputs": [],
   "source": [
    "#找出各類特徵，以作為機器學習的向量\n",
    "import codecs\n",
    "import os\n",
    "from collections import defaultdict\n",
    "\n",
    "out_path = \"D:\\\\課業相關\\\\論文資料\\\\language_feature\\\\\""
   ]
  },
  {
   "cell_type": "code",
   "execution_count": 7,
   "metadata": {
    "collapsed": false
   },
   "outputs": [
    {
     "name": "stdout",
     "output_type": "stream",
     "text": [
      "0\n",
      "3000\n",
      "END\n"
     ]
    }
   ],
   "source": [
    "#平衡語料庫/自由中國的高頻詞、標點符號、2gram及3gram\n",
    "#input_path = \"D:\\\\課業相關\\\\論文資料\\\\SCS2\\\\\"\n",
    "input_path = \"D:\\\\課業相關\\\\論文資料\\\\雷震處理資料\\\\source\\\\自由中國(2nd)\\\\自由中國-非文藝類\\\\\"\n",
    "\n",
    "SCS_dic = defaultdict(int)\n",
    "SCS_category = defaultdict(int)\n",
    "SCS_bigram = defaultdict(int)\n",
    "SCS_trigram = defaultdict(int)\n",
    "\n",
    "for index,file in enumerate(os.listdir(input_path)):\n",
    "    if index % 3000 == 0:\n",
    "        print (index)\n",
    "    with codecs.open(input_path+file,'rb','utf8') as f:\n",
    "        head = f.readline()\n",
    "        content = f.readline().strip().split()\n",
    "        \n",
    "        for word in content:\n",
    "            if '(' in word:\n",
    "                if 'CATEGORY' in word.split('(')[1]:\n",
    "                    SCS_category[word.split('(')[0]] += 1\n",
    "                else:\n",
    "                    SCS_dic[word.split('(')[0]] += 1\n",
    "        \n",
    "        def format_check(word):\n",
    "            if '(' in word and 'CATEGORY' not in word and word != '' and word[0] != '(':\n",
    "                return True\n",
    "            return False\n",
    "        \n",
    "        for i in range(len(content)-1):\n",
    "            if format_check(content[i]) and format_check(content[i+1]):\n",
    "                SCS_bigram[content[i].split('(')[0]+content[i+1].split('(')[0]] += 1\n",
    "        \n",
    "        for i in range(len(content)-2):\n",
    "            if format_check(content[i]) and format_check(content[i+1]) and format_check(content[i+2]):\n",
    "                SCS_trigram[content[i].split('(')[0]+content[i+1].split('(')[0]+content[i+2].split('(')[0]] += 1\n",
    "                \n",
    "SCS_dic_sort = sorted(SCS_dic.items(), key=lambda d:d[1], reverse = True)    \n",
    "SCS_category_sort = sorted(SCS_category.items(), key=lambda d:d[1], reverse = True) \n",
    "\n",
    "with codecs.open(out_path+'自由中國前100高頻詞.csv','wb','utf8') as g:\n",
    "    for i,e in enumerate(SCS_dic_sort):\n",
    "        if i == 100:\n",
    "            break\n",
    "        g.write(e[0]+','+str(e[1])+'\\r\\n')\n",
    "\n",
    "with codecs.open(out_path+'自由中國前100標點符號.csv','wb','utf8') as g:\n",
    "    for i,e in enumerate(SCS_category_sort):\n",
    "        if i == 100:\n",
    "            break\n",
    "        g.write(e[0]+','+str(e[1])+'\\r\\n')\n",
    "\n",
    "SCS_bigram_sort = sorted(SCS_bigram.items(), key=lambda d:d[1], reverse = True)    \n",
    "SCS_trigram_sort = sorted(SCS_trigram.items(), key=lambda d:d[1], reverse = True) \n",
    "\n",
    "with codecs.open(out_path+'自由中國前100個bigram.csv','wb','utf8') as g:\n",
    "    for i,e in enumerate(SCS_bigram_sort):\n",
    "        if i == 100:\n",
    "            break\n",
    "        g.write(e[0]+','+str(e[1])+'\\r\\n')\n",
    "\n",
    "with codecs.open(out_path+'自由中國前100個trigram.csv','wb','utf8') as g:\n",
    "    for i,e in enumerate(SCS_trigram_sort):\n",
    "        if i == 100:\n",
    "            break\n",
    "        g.write(e[0]+','+str(e[1])+'\\r\\n')\n",
    "        \n",
    "print ('END')"
   ]
  }
 ],
 "metadata": {
  "kernelspec": {
   "display_name": "Python 3",
   "language": "python",
   "name": "python3"
  },
  "language_info": {
   "codemirror_mode": {
    "name": "ipython",
    "version": 3
   },
   "file_extension": ".py",
   "mimetype": "text/x-python",
   "name": "python",
   "nbconvert_exporter": "python",
   "pygments_lexer": "ipython3",
   "version": "3.5.2"
  }
 },
 "nbformat": 4,
 "nbformat_minor": 0
}
