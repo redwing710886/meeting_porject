{
 "cells": [
  {
   "cell_type": "code",
   "execution_count": 1,
   "metadata": {
    "collapsed": true
   },
   "outputs": [],
   "source": [
    "#2017/3/21 程度詞及後續詞的觀察\n",
    "#資料庫：平衡語料庫\n",
    "#找尋範圍：不限\n",
    "import codecs\n",
    "import os\n",
    "from collections import defaultdict\n",
    "import time\n",
    "from IPython.display import clear_output\n",
    "\n",
    "SC_path = \"D:\\\\課業相關\\\\論文資料\\\\SCS2\\\\\"\n",
    "out_path = \"C:\\\\Users\\\\user\\\\Desktop\\\\\"\n",
    "\n",
    "condicate = ['太','最','更','比較','很','稍','略','多','挺','非常','十分','稍微','多麼','極','好','怪','稍稍',\\\n",
    "             '不大','格外','極其','頂','越發']"
   ]
  },
  {
   "cell_type": "code",
   "execution_count": 4,
   "metadata": {
    "collapsed": false
   },
   "outputs": [
    {
     "name": "stdout",
     "output_type": "stream",
     "text": [
      "1 最(Dfa)大(VH) 2323\n",
      "2 好(VH)的(DE) 2078\n",
      "3 最(Dfa)大(VH)的(DE) 1394\n",
      "4 最(Dfa)高(VH) 1063\n",
      "5 最(Dfa)重要(VH) 995\n",
      "6 很(Dfa)大(VH) 964\n",
      "7 很(Dfa)難(VH) 960\n",
      "8 更(Dfa)是(SHI) 847\n",
      "9 最(Dfa)重要(VH)的(DE) 789\n",
      "10 很(Dfa)大(VH)的(DE) 767\n",
      "11 多(Neqa)年(Nf) 763\n",
      "12 更(D)是(SHI) 712\n",
      "13 很(Dfa)有(V_2) 666\n",
      "14 很(Dfa)快(VH) 638\n",
      "15 多(VH)的(DE) 594\n",
      "16 最(Dfa)新(VH) 576\n",
      "17 很(Dfa)好(VH) 518\n",
      "18 很(Dfa)容易(VH) 514\n",
      "19 最(Dfa)好(VH) 488\n",
      "20 很(Dfa)不(D) 443\n",
      "END\n"
     ]
    }
   ],
   "source": [
    "#找出程度詞後1~2個接續詞\n",
    "dfa_dict = defaultdict(int)\n",
    "\n",
    "count = 0\n",
    "\n",
    "for file in os.listdir(SC_path):\n",
    "    \n",
    "    count += 1\n",
    "    if count % 1000 == 0:\n",
    "        print (count)\n",
    "    \n",
    "    with codecs.open(SC_path+file,'rb','utf8') as f:\n",
    "        header = f.readline()\n",
    "        content = f.readline().strip().split()\n",
    "        \n",
    "        for i in range(len(content)-2):\n",
    "            if content[i].split('(')[0] in condicate and 'CATEGORY' not in content[i+1].split('(')[1] \\\n",
    "                and 'CATEGORY' not in content[i+2].split('(')[1]:\n",
    "                dfa_dict[content[i]+content[i+1]] += 1\n",
    "                dfa_dict[content[i]+content[i+1]+content[i+2]] += 1\n",
    "        if len(content) >= 2 and content[-2].split('(')[0] in condicate and 'CATEGORY' not in content[-1].split('(')[1]:\n",
    "            dfa_dict[content[-2]+content[-1]] += 1\n",
    "\n",
    "clear_output()\n",
    "            \n",
    "dfa_ans = sorted(dfa_dict.items(), key=lambda d:d[1], reverse = True)\n",
    "\n",
    "for i in range(20):\n",
    "    print (i+1,dfa_ans[i][0],dfa_ans[i][1])\n",
    "print ('END')"
   ]
  }
 ],
 "metadata": {
  "kernelspec": {
   "display_name": "Python 3",
   "language": "python",
   "name": "python3"
  },
  "language_info": {
   "codemirror_mode": {
    "name": "ipython",
    "version": 3
   },
   "file_extension": ".py",
   "mimetype": "text/x-python",
   "name": "python",
   "nbconvert_exporter": "python",
   "pygments_lexer": "ipython3",
   "version": "3.5.2"
  }
 },
 "nbformat": 4,
 "nbformat_minor": 0
}
