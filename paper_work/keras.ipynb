{
 "cells": [
  {
   "cell_type": "code",
   "execution_count": 7,
   "metadata": {
    "collapsed": false
   },
   "outputs": [
    {
     "data": {
      "image/png": "[encoded data removed]",
      "text/plain": [
       "<matplotlib.figure.Figure at 0x151ff77f198>"
      ]
     },
     "metadata": {},
     "output_type": "display_data"
    }
   ],
   "source": [
    "import numpy as np\n",
    "np.random.seed(1337)  # for reproducibility\n",
    "from keras.models import Sequential\n",
    "from keras.layers import Dense\n",
    "import matplotlib.pyplot as plt # 可视化模块\n",
    "\n",
    "# create some data\n",
    "X = np.linspace(-1, 1, 200)\n",
    "np.random.shuffle(X)    # randomize the data\n",
    "Y = 0.5 * X + 2 + np.random.normal(0, 0.05, (200, ))\n",
    "# plot data\n",
    "plt.scatter(X, Y)\n",
    "plt.show()"
   ]
  },
  {
   "cell_type": "code",
   "execution_count": 8,
   "metadata": {
    "collapsed": false
   },
   "outputs": [],
   "source": [
    "model = Sequential()\n",
    "model.add(Dense(output_dim=1, input_dim=1))\n",
    "\n",
    "# choose loss function and optimizing method\n",
    "model.compile(loss='mse', optimizer='sgd')"
   ]
  },
  {
   "cell_type": "code",
   "execution_count": 9,
   "metadata": {
    "collapsed": false
   },
   "outputs": [
    {
     "name": "stdout",
     "output_type": "stream",
     "text": [
      "Training -----------\n",
      "train cost:  4.41555\n",
      "train cost:  0.178944\n",
      "train cost:  0.0313626\n",
      "train cost:  0.00984909\n"
     ]
    },
    {
     "data": {
      "text/plain": [
       "'\\nTraining -----------\\ntrain cost:  4.111329555511475\\ntrain cost:  0.08777070790529251\\ntrain cost:  0.007415373809635639\\ntrain cost:  0.003544030711054802\\n'"
      ]
     },
     "execution_count": 9,
     "metadata": {},
     "output_type": "execute_result"
    }
   ],
   "source": [
    "# training\n",
    "print('Training -----------')\n",
    "for step in range(301):\n",
    "    cost = model.train_on_batch(X_train, Y_train)\n",
    "    if step % 100 == 0:\n",
    "        print('train cost: ', cost)\n",
    "\n",
    "\"\"\"\n",
    "Training -----------\n",
    "train cost:  4.111329555511475\n",
    "train cost:  0.08777070790529251\n",
    "train cost:  0.007415373809635639\n",
    "train cost:  0.003544030711054802\n",
    "\"\"\""
   ]
  },
  {
   "cell_type": "code",
   "execution_count": 10,
   "metadata": {
    "collapsed": false
   },
   "outputs": [
    {
     "name": "stdout",
     "output_type": "stream",
     "text": [
      "\n",
      "Testing ------------\n",
      " 40/200 [=====>........................] - ETA: 0stest cost: 0.00975305354223\n",
      "Weights= [[ 0.34543315]] \n",
      "biases= [ 1.99648666]\n"
     ]
    },
    {
     "data": {
      "text/plain": [
       "'\\nTesting ------------\\n40/40 [==============================] - 0s\\ntest cost: 0.004269329831\\nWeights= [[ 0.54246825]] \\nbiases= [ 2.00056005]\\n'"
      ]
     },
     "execution_count": 10,
     "metadata": {},
     "output_type": "execute_result"
    }
   ],
   "source": [
    "# test\n",
    "print('\\nTesting ------------')\n",
    "cost = model.evaluate(X_test, Y_test, batch_size=40)\n",
    "print('test cost:', cost)\n",
    "W, b = model.layers[0].get_weights()\n",
    "print('Weights=', W, '\\nbiases=', b)\n",
    "\n",
    "\"\"\"\n",
    "Testing ------------\n",
    "40/40 [==============================] - 0s\n",
    "test cost: 0.004269329831\n",
    "Weights= [[ 0.54246825]] \n",
    "biases= [ 2.00056005]\n",
    "\"\"\""
   ]
  },
  {
   "cell_type": "code",
   "execution_count": 11,
   "metadata": {
    "collapsed": false
   },
   "outputs": [
    {
     "ename": "NameError",
     "evalue": "name 'X_test' is not defined",
     "output_type": "error",
     "traceback": [
      "\u001b[0;31m--------------------------------------------------\u001b[0m",
      "\u001b[0;31mNameError\u001b[0m        Traceback (most recent call last)",
      "\u001b[0;32m<ipython-input-11-c318dd673be9>\u001b[0m in \u001b[0;36m<module>\u001b[0;34m()\u001b[0m\n\u001b[1;32m      1\u001b[0m \u001b[1;31m# plotting the prediction\u001b[0m\u001b[1;33m\u001b[0m\u001b[1;33m\u001b[0m\u001b[0m\n\u001b[0;32m----> 2\u001b[0;31m \u001b[0mY_pred\u001b[0m \u001b[1;33m=\u001b[0m \u001b[0mmodel\u001b[0m\u001b[1;33m.\u001b[0m\u001b[0mpredict\u001b[0m\u001b[1;33m(\u001b[0m\u001b[0mX_test\u001b[0m\u001b[1;33m)\u001b[0m\u001b[1;33m\u001b[0m\u001b[0m\n\u001b[0m\u001b[1;32m      3\u001b[0m \u001b[0mplt\u001b[0m\u001b[1;33m.\u001b[0m\u001b[0mscatter\u001b[0m\u001b[1;33m(\u001b[0m\u001b[0mX_test\u001b[0m\u001b[1;33m,\u001b[0m \u001b[0mY_test\u001b[0m\u001b[1;33m)\u001b[0m\u001b[1;33m\u001b[0m\u001b[0m\n\u001b[1;32m      4\u001b[0m \u001b[0mplt\u001b[0m\u001b[1;33m.\u001b[0m\u001b[0mplot\u001b[0m\u001b[1;33m(\u001b[0m\u001b[0mX_test\u001b[0m\u001b[1;33m,\u001b[0m \u001b[0mY_pred\u001b[0m\u001b[1;33m)\u001b[0m\u001b[1;33m\u001b[0m\u001b[0m\n\u001b[1;32m      5\u001b[0m \u001b[0mplt\u001b[0m\u001b[1;33m.\u001b[0m\u001b[0mshow\u001b[0m\u001b[1;33m(\u001b[0m\u001b[1;33m)\u001b[0m\u001b[1;33m\u001b[0m\u001b[0m\n",
      "\u001b[0;31mNameError\u001b[0m: name 'X_test' is not defined"
     ]
    }
   ],
   "source": [
    "# plotting the prediction\n",
    "Y_pred = model.predict(X_test)\n",
    "plt.scatter(X_test, Y_test)\n",
    "plt.plot(X_test, Y_pred)\n",
    "plt.show()"
   ]
  }
 ],
 "metadata": {
  "kernelspec": {
   "display_name": "Python 3",
   "language": "python",
   "name": "python3"
  },
  "language_info": {
   "codemirror_mode": {
    "name": "ipython",
    "version": 3
   },
   "file_extension": ".py",
   "mimetype": "text/x-python",
   "name": "python",
   "nbconvert_exporter": "python",
   "pygments_lexer": "ipython3",
   "version": "3.5.2"
  }
 },
 "nbformat": 4,
 "nbformat_minor": 0
}
