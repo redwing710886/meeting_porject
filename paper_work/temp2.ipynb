{
 "cells": [
  {
   "cell_type": "code",
   "execution_count": 1,
   "metadata": {
    "collapsed": false
   },
   "outputs": [
    {
     "name": "stdout",
     "output_type": "stream",
     "text": [
      "[[  0.   0.   5. ...,   0.   0.   0.]\n",
      " [  0.   0.   0. ...,  10.   0.   0.]\n",
      " [  0.   0.   0. ...,  16.   9.   0.]\n",
      " ..., \n",
      " [  0.   0.   1. ...,   6.   0.   0.]\n",
      " [  0.   0.   2. ...,  12.   0.   0.]\n",
      " [  0.   0.  10. ...,  12.   1.   0.]]\n"
     ]
    }
   ],
   "source": [
    "from sklearn import datasets\n",
    "iris = datasets.load_iris()\n",
    "digits = datasets.load_digits()\n",
    "\n",
    "print (digits.data)"
   ]
  },
  {
   "cell_type": "code",
   "execution_count": 6,
   "metadata": {
    "collapsed": false
   },
   "outputs": [
    {
     "data": {
      "text/plain": [
       "array([0])"
      ]
     },
     "execution_count": 6,
     "metadata": {},
     "output_type": "execute_result"
    }
   ],
   "source": [
    "from sklearn import svm\n",
    "from sklearn import datasets\n",
    "clf = svm.SVC()\n",
    "iris = datasets.load_iris()\n",
    "X, y = iris.data, iris.target\n",
    "clf.fit(X, y) \n",
    "\n",
    "import pickle\n",
    "s = pickle.dumps(clf)\n",
    "clf2 = pickle.loads(s)\n",
    "clf2.predict(X[0:1])"
   ]
  },
  {
   "cell_type": "code",
   "execution_count": 34,
   "metadata": {
    "collapsed": false
   },
   "outputs": [
    {
     "name": "stdout",
     "output_type": "stream",
     "text": [
      "627464\n",
      "64370.23\n",
      "d1: 40390\n",
      "459489\n",
      "57655.35\n",
      "d2: 26492\n",
      "146480\n",
      "75730.48\n",
      "d3: 11093\n"
     ]
    }
   ],
   "source": [
    "import codecs\n",
    "import os\n",
    "from collections import defaultdict\n",
    "from IPython.display import clear_output\n",
    "\n",
    "diray_path = \"D:\\\\課業相關\\\\論文資料\\\\雷震處理資料\\\\source\\\\日記\\\\all\\\\\"\n",
    "nonlei_path = \"D:\\\\課業相關\\\\論文資料\\\\雷震處理資料\\\\source\\\\自由中國(2nd)\\\\自由中國-非文藝類非雷震\\\\\"\n",
    "lei_path = \"D:\\\\課業相關\\\\論文資料\\\\雷震處理資料\\\\source\\\\自由中國(2nd)\\\\自由中國-雷震文章+社論\\\\\"\n",
    "\n",
    "d1_path = \"D:\\\\課業相關\\\\論文資料\\\\雷震處理資料\\\\source\\\\日記\\\\1948~1960\\\\\"\n",
    "d2_path = \"D:\\\\課業相關\\\\論文資料\\\\雷震處理資料\\\\source\\\\日記\\\\1961~1970\\\\\"\n",
    "d3_path = \"D:\\\\課業相關\\\\論文資料\\\\雷震處理資料\\\\source\\\\日記\\\\1971~1977\\\\\"\n",
    "\n",
    "ff = '不'\n",
    "\n",
    "def find_con(path,head):\n",
    "    count_con = defaultdict(int)\n",
    "    all_count = 0\n",
    "    for i,file in enumerate(os.listdir(path)):\n",
    "        with codecs.open(path+file,'rb','utf8') as f:\n",
    "            if head:\n",
    "                f.readline()\n",
    "            content = f.readline().strip().split()\n",
    "            all_count += len(content)\n",
    "            for i in range(len(content)-1):\n",
    "                if content[i].split('(')[1] != '' and content[i+1].split('(')[1] != ''\\\n",
    "                and content[i].split('(')[1][0] == 'N' and content[i+1].split('(')[1][0] == 'N':\n",
    "                    count_con[content[i]+content[i+1]] += 1\n",
    "            '''for i in content:\n",
    "                if i.split('(')[1] != '' and i.split('(')[1] == 'Nh)':\n",
    "                    count_con[i] += 1'''\n",
    "            \n",
    "            '''for i in range(len(content)-1):\n",
    "                if content[i].split('(')[1] != '' and content[i+1].split('(')[1] != ''\\\n",
    "                and content[i].split('(')[1][0] == 'N' and content[i+1].split('(')[1][0] == 'V'\\\n",
    "                and content[i].split('(')[1][1] != 'h':\n",
    "                    count_con[content[i]+content[i+1]] += 1'''\n",
    "            \n",
    "            '''for i in content:\n",
    "                if i.split('(')[0] == ff:\n",
    "                    count_con[ff] += 1'''\n",
    "    \n",
    "    print (all_count)\n",
    "    print (round(len(count_con)*1000000/all_count,2))\n",
    "    #print (round(count_con[ff]*1000000/all_count,2))\n",
    "    \n",
    "    '''aa = sorted(count_con.items(), key=lambda d:d[1], reverse = True)\n",
    "    for i,j in enumerate(aa):\n",
    "        print (j[0],j[1])\n",
    "        if i == 9:\n",
    "            break'''\n",
    "    return len(count_con)\n",
    "    #return count_con[ff]\n",
    "\n",
    "'''print ('diray:',find_con(diray_path,False))\n",
    "print ('nonlei:',find_con(nonlei_path,True))\n",
    "print ('lei:',find_con(lei_path,True))'''\n",
    "\n",
    "print ('d1:',find_con(d1_path,False))\n",
    "print ('d2:',find_con(d2_path,False))\n",
    "print ('d3:',find_con(d3_path,False))"
   ]
  },
  {
   "cell_type": "code",
   "execution_count": 38,
   "metadata": {
    "collapsed": false
   },
   "outputs": [
    {
     "name": "stdout",
     "output_type": "stream",
     "text": [
      "我\n",
      "你\n",
      "他\n",
      "她\n",
      "渠\n",
      "我們\n",
      "你們\n",
      "他們\n",
      "END\n"
     ]
    }
   ],
   "source": [
    "condicate = ['我','你','他','她','渠','我們','你們','他們']\n",
    "#condicate = ['不','沒','未']\n",
    "\n",
    "def find_condicate(path,head,find):\n",
    "    count = 0\n",
    "    all_count = 0\n",
    "    for i,file in enumerate(os.listdir(path)):\n",
    "        with codecs.open(path+file,'rb','utf8') as f:\n",
    "            if head:\n",
    "                f.readline()\n",
    "            content = f.readline().strip().split()\n",
    "            all_count += len(content)\n",
    "            \n",
    "            for i in content:\n",
    "                if i.split('(')[0] == find:\n",
    "                    count += 1\n",
    "            '''for i in range(len(content)-1):\n",
    "                if content[i].split('(')[0] == find and \"CATEGORY\" not in content[i+1].split('(')[1]:\n",
    "                    count += 1'''\n",
    "    return str(round(count*1000000/all_count))\n",
    "            \n",
    "with codecs.open('C:\\\\Users\\\\user\\\\Desktop\\\\Nh2.csv','wb','utf8') as g:\n",
    "    #g.write(',diray,lei,nonlei\\r\\n')\n",
    "    g.write(',d1,d2,d3\\r\\n')\n",
    "    for i in condicate:\n",
    "        print (i)\n",
    "        '''diray = find_condicate(diray_path,False,i)\n",
    "        lei = find_condicate(lei_path,True,i)\n",
    "        nonlei = find_condicate(nonlei_path,True,i)\n",
    "        g.write(i+','+','.join([diray,lei,nonlei])+'\\r\\n')'''\n",
    "        d1 = find_condicate(d1_path,False,i)\n",
    "        d2 = find_condicate(d2_path,False,i)\n",
    "        d3 = find_condicate(d3_path,False,i)\n",
    "        g.write(i+','+','.join([d1,d2,d3])+'\\r\\n')\n",
    "        \n",
    "print ('END')"
   ]
  },
  {
   "cell_type": "code",
   "execution_count": 41,
   "metadata": {
    "collapsed": false
   },
   "outputs": [
    {
     "name": "stdout",
     "output_type": "stream",
     "text": [
      "不\n",
      "未\n",
      "沒\n",
      "END\n"
     ]
    }
   ],
   "source": [
    "condicate = ['不','未','沒']\n",
    "\n",
    "def all_find(path,head,find):\n",
    "    find_no = defaultdict(int)\n",
    "    \n",
    "    for file in os.listdir(path):\n",
    "        with codecs.open(path+file,'rb','utf8') as f:\n",
    "            if head:\n",
    "                f.readline()\n",
    "            content = f.readline().strip().split()\n",
    "            \n",
    "            for i in range(len(content)-1):\n",
    "                if content[i].split('(')[0] == find and \"CATEGORY\" not in content[i+1].split('(')[1]:\n",
    "                    find_no[content[i].split('(')[0]+' '+content[i+1].split('(')[0]] += 1\n",
    "                    \n",
    "    find_no = sorted(find_no.items(), key=lambda d:d[1], reverse = True)\n",
    "    find_e = [x[0] for x in find_no]\n",
    "    find_f = [str(x[1]) for x in find_no]\n",
    "    return find_e,find_f\n",
    "\n",
    "with codecs.open('C:\\\\Users\\\\user\\\\Desktop\\\\all_no.csv','wb','utf8') as g:\n",
    "    for i in condicate:\n",
    "        print (i)\n",
    "        find_e,find_f = all_find(diray_path,False,i)\n",
    "        g.write('雷震日記_'+i+','+','.join(find_e)+'\\r\\n')\n",
    "        g.write('frequency'+','+','.join(find_f)+'\\r\\n\\r\\n')\n",
    "        \n",
    "        find_e,find_f = all_find(lei_path,True,i)\n",
    "        g.write('自由中國-雷震文章_'+i+','+','.join(find_e)+'\\r\\n')\n",
    "        g.write('frequency'+','+','.join(find_f)+'\\r\\n\\r\\n')\n",
    "        \n",
    "        find_e,find_f = all_find(nonlei_path,True,i)\n",
    "        g.write('自由中國-非雷震文章_'+i+','+','.join(find_e)+'\\r\\n')\n",
    "        g.write('frequency'+','+','.join(find_f)+'\\r\\n\\r\\n')\n",
    "        \n",
    "        find_e,find_f = all_find(d1_path,False,i)\n",
    "        g.write('1948~1960_'+i+','+','.join(find_e)+'\\r\\n')\n",
    "        g.write('frequency'+','+','.join(find_f)+'\\r\\n\\r\\n')\n",
    "        \n",
    "        find_e,find_f = all_find(d2_path,False,i)\n",
    "        g.write('1961~1970_'+i+','+','.join(find_e)+'\\r\\n')\n",
    "        g.write('frequency'+','+','.join(find_f)+'\\r\\n\\r\\n')\n",
    "        \n",
    "        find_e,find_f = all_find(d3_path,False,i)\n",
    "        g.write('1971~1977_'+i+','+','.join(find_e)+'\\r\\n')\n",
    "        g.write('frequency'+','+','.join(find_f)+'\\r\\n\\r\\n')\n",
    "        \n",
    "print ('END')"
   ]
  }
 ],
 "metadata": {
  "kernelspec": {
   "display_name": "Python 3",
   "language": "python",
   "name": "python3"
  },
  "language_info": {
   "codemirror_mode": {
    "name": "ipython",
    "version": 3
   },
   "file_extension": ".py",
   "mimetype": "text/x-python",
   "name": "python",
   "nbconvert_exporter": "python",
   "pygments_lexer": "ipython3",
   "version": "3.5.2"
  }
 },
 "nbformat": 4,
 "nbformat_minor": 0
}
