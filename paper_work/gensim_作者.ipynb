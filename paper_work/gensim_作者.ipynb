{
 "cells": [
  {
   "cell_type": "code",
   "execution_count": 1,
   "metadata": {
    "collapsed": false
   },
   "outputs": [
    {
     "name": "stdout",
     "output_type": "stream",
     "text": [
      "END\n"
     ]
    }
   ],
   "source": [
    "#抓取特定作者文章\n",
    "import os\n",
    "import codecs\n",
    "from collections import defaultdict\n",
    "\n",
    "path = \"C:\\\\Users\\\\user\\\\Desktop\\\\課業相關\\\\碩士班\\\\SNA\\\\meeting\\\\source\\\\自由中國\\\\\"\n",
    "\n",
    "name = ['孟瑤', '徐訏', '朱伴耘', '殷海光', '羅鴻詔', '胡適', '蔣勻田', '陳之藩', '雷震', '龍平甫']\n",
    "\n",
    "file_list = []\n",
    "\n",
    "for d in os.listdir(path):\n",
    "    for file in os.listdir(path+d+'\\\\'):\n",
    "        file_list.append(d+'\\\\'+file)\n",
    "        \n",
    "frequency = defaultdict(list)\n",
    "\n",
    "for file in file_list:\n",
    "    with codecs.open(path+file,'rb','utf8') as f:\n",
    "        header = (f.readline().strip()).split()\n",
    "        \n",
    "        if len(header) >= 6 and header[5] in name:\n",
    "            frequency[header[5]].append(file)\n",
    "print ('END')"
   ]
  },
  {
   "cell_type": "code",
   "execution_count": 2,
   "metadata": {
    "collapsed": false
   },
   "outputs": [
    {
     "name": "stderr",
     "output_type": "stream",
     "text": [
      "Building prefix dict from the default dictionary ...\n",
      "Loading model from cache C:\\Users\\user\\AppData\\Local\\Temp\\jieba.cache\n",
      "Loading model cost 1.349 seconds.\n",
      "Prefix dict has been built succesfully.\n"
     ]
    },
    {
     "name": "stdout",
     "output_type": "stream",
     "text": [
      "END\n"
     ]
    }
   ],
   "source": [
    "#jieba\n",
    "import jieba\n",
    "import time\n",
    "\n",
    "jieba.load_userdict(\"dict.txt.big\")\n",
    "\n",
    "out_path = \"C:\\\\Users\\\\user\\\\Desktop\\\\作者\\\\\"\n",
    "desktop_path = \"C:\\\\Users\\\\user\\\\Desktop\\\\\"\n",
    "\n",
    "stop_word = []\n",
    "\n",
    "with codecs.open('C:\\\\Users\\\\user\\\\Desktop\\\\課業相關\\\\論文資料\\\\stop2.txt','rb','utf8') as f:\n",
    "    stop_word = [line.strip() for line in f.readlines()]\n",
    "\n",
    "word_frequency = defaultdict(int)\n",
    "\n",
    "for n in frequency:\n",
    "    for file in frequency[n]:\n",
    "        with codecs.open(path+file,'rb','utf8') as f:\n",
    "            header = f.readline()\n",
    "            content = (f.readline()).strip()\n",
    "            text = [word.split('(')[0] for word in content.split() \\\n",
    "                    if len(word.split('(')) == 2 and word.split('(')[0] not in stop_word \\\n",
    "                    and 'CATEGORY' not in word.split('(')[1]]\n",
    "            text = jieba.lcut(''.join(text),cut_all=False)\n",
    "            for word in text:\n",
    "                word_frequency[word] += 1 \n",
    "            \n",
    "            with codecs.open(out_path+n+'.txt','ab','utf8') as g:\n",
    "                g.write(' '.join(text)+'\\r\\n')\n",
    "print ('END')"
   ]
  },
  {
   "cell_type": "code",
   "execution_count": 2,
   "metadata": {
    "collapsed": false
   },
   "outputs": [
    {
     "name": "stdout",
     "output_type": "stream",
     "text": [
      "END\n"
     ]
    }
   ],
   "source": [
    "#CKIP\n",
    "out_path = \"C:\\\\Users\\\\user\\\\Desktop\\\\作者\\\\\"\n",
    "desktop_path = \"C:\\\\Users\\\\user\\\\Desktop\\\\\"\n",
    "\n",
    "stop_word = []\n",
    "\n",
    "with codecs.open(desktop_path+'stop.txt','rb','utf8') as f:\n",
    "    stop_word = [line.strip() for line in f.readlines()]\n",
    "\n",
    "word_frequency = defaultdict(int)\n",
    "\n",
    "for n in frequency:\n",
    "    for file in frequency[n]:\n",
    "        with codecs.open(path+file,'rb','utf8') as f:\n",
    "            header = f.readline()\n",
    "            content = (f.readline()).strip()\n",
    "            \n",
    "            text = [word.split('(')[0] for word in content.split() \\\n",
    "                    if len(word.split('(')) == 2 and word.split('(')[0] not in stop_word \\\n",
    "                    and 'CATEGORY' not in word.split('(')[1]]\n",
    "            for word in text:\n",
    "                word_frequency[word] += 1 \n",
    "            \n",
    "            with codecs.open(out_path+n+'.txt','ab','utf8') as g:\n",
    "                g.write(' '.join(text)+'\\r\\n')\n",
    "print ('END')"
   ]
  },
  {
   "cell_type": "code",
   "execution_count": 3,
   "metadata": {
    "collapsed": false
   },
   "outputs": [
    {
     "name": "stdout",
     "output_type": "stream",
     "text": [
      "81681\n",
      "[('美國', 3938), ('政治', 3592), ('蘇俄', 3586), ('自由', 3381), ('可以', 3127), ('國家', 3049), ('問題', 2812), ('為', 2775), ('人民', 2722), ('不能', 2625)]\n"
     ]
    },
    {
     "data": {
      "image/png": "[encoded data removed]",
      "text/plain": [
       "<matplotlib.figure.Figure at 0x2e37c644630>"
      ]
     },
     "metadata": {},
     "output_type": "display_data"
    }
   ],
   "source": [
    "#查看作者間之高頻詞\n",
    "import numpy as np\n",
    "import matplotlib.pyplot as plt\n",
    "from collections import OrderedDict\n",
    "\n",
    "sort_words = sorted(word_frequency.items(), key=lambda d:d[1], reverse = True)\n",
    "print (len(sort_words))\n",
    "print (sort_words[:10])\n",
    "\n",
    "condicate = []\n",
    "count = 0\n",
    "for item in sort_words:\n",
    "    '''if count % 50 == 0:\n",
    "        #print (item[0],item[1])\n",
    "        condicate.append(item[0])\n",
    "    count += 1'''\n",
    "    if count > 10:\n",
    "        break\n",
    "    condicate.append(item[0])\n",
    "    count += 1\n",
    "\n",
    "sort_words = OrderedDict(sort_words[:100])\n",
    "    \n",
    "xticks = np.arange(len(sort_words)) + 1\n",
    "plt.bar(xticks, sort_words.values(), align='center')\n",
    "\n",
    "#plt.xticks(xticks, list(sort_words.keys()))  \n",
    "plt.show()"
   ]
  },
  {
   "cell_type": "code",
   "execution_count": 16,
   "metadata": {
    "collapsed": false
   },
   "outputs": [
    {
     "name": "stderr",
     "output_type": "stream",
     "text": [
      "2017-01-06 11:32:26,218 : INFO : collecting all words and their counts\n",
      "2017-01-06 11:32:26,223 : INFO : PROGRESS: at sentence #0, processed 0 words, keeping 0 word types\n",
      "2017-01-06 11:32:26,328 : INFO : collected 27656 word types from a corpus of 173501 raw words and 18 sentences\n",
      "2017-01-06 11:32:26,329 : INFO : Loading a fresh vocabulary\n",
      "2017-01-06 11:32:26,374 : INFO : min_count=5 retains 5163 unique words (18% of original 27656, drops 22493)\n",
      "2017-01-06 11:32:26,375 : INFO : min_count=5 leaves 139139 word corpus (80% of original 173501, drops 34362)\n",
      "2017-01-06 11:32:26,408 : INFO : deleting the raw counts dictionary of 27656 items\n",
      "2017-01-06 11:32:26,412 : INFO : sample=0.001 downsamples 28 most-common words\n",
      "2017-01-06 11:32:26,413 : INFO : downsampling leaves estimated 134900 word corpus (97.0% of prior 139139)\n",
      "2017-01-06 11:32:26,415 : INFO : estimated required memory for 5163 words and 500 dimensions: 34592100 bytes\n",
      "2017-01-06 11:32:26,431 : INFO : constructing a huffman tree from 5163 words\n",
      "2017-01-06 11:32:26,644 : INFO : built huffman tree with maximum node depth 15\n",
      "2017-01-06 11:32:26,659 : INFO : resetting layer weights\n",
      "2017-01-06 11:32:26,813 : INFO : training model with 3 workers on 5163 vocabulary and 500 features, using sg=1 hs=1 sample=0.001 negative=5 window=3\n",
      "2017-01-06 11:32:26,813 : INFO : expecting 18 sentences, matching count from corpus used for vocabulary survey\n",
      "2017-01-06 11:32:27,824 : INFO : PROGRESS: at 7.78% examples, 54953 words/s, in_qsize 5, out_qsize 0\n",
      "2017-01-06 11:32:28,902 : INFO : PROGRESS: at 17.78% examples, 57556 words/s, in_qsize 5, out_qsize 0\n",
      "2017-01-06 11:32:30,109 : INFO : PROGRESS: at 28.89% examples, 60425 words/s, in_qsize 6, out_qsize 0\n",
      "2017-01-06 11:32:31,153 : INFO : PROGRESS: at 40.00% examples, 62213 words/s, in_qsize 5, out_qsize 0\n",
      "2017-01-06 11:32:32,195 : INFO : PROGRESS: at 50.00% examples, 63693 words/s, in_qsize 5, out_qsize 0\n",
      "2017-01-06 11:32:33,287 : INFO : PROGRESS: at 61.11% examples, 63694 words/s, in_qsize 5, out_qsize 0\n",
      "2017-01-06 11:32:34,371 : INFO : PROGRESS: at 71.11% examples, 64288 words/s, in_qsize 6, out_qsize 0\n",
      "2017-01-06 11:32:35,412 : INFO : PROGRESS: at 82.22% examples, 64675 words/s, in_qsize 6, out_qsize 0\n",
      "2017-01-06 11:32:36,423 : INFO : PROGRESS: at 92.22% examples, 65440 words/s, in_qsize 6, out_qsize 0\n",
      "2017-01-06 11:32:37,004 : INFO : worker thread finished; awaiting finish of 2 more threads\n",
      "2017-01-06 11:32:37,029 : INFO : worker thread finished; awaiting finish of 1 more threads\n",
      "2017-01-06 11:32:37,094 : INFO : worker thread finished; awaiting finish of 0 more threads\n",
      "2017-01-06 11:32:37,095 : INFO : training on 867505 raw words (674364 effective words) took 10.3s, 65649 effective words/s\n",
      "2017-01-06 11:32:37,109 : INFO : storing 5163x500 projection weights into C:\\Users\\user\\Desktop\\author.model.bin\n"
     ]
    }
   ],
   "source": [
    "#訓練word2vec\n",
    "from gensim.models import word2vec\n",
    "import logging\n",
    "\n",
    "out_path = \"C:\\\\Users\\\\user\\\\Desktop\\\\作者\\\\\"\n",
    "desktop_path = \"C:\\\\Users\\\\user\\\\Desktop\\\\\"\n",
    "\n",
    "logging.basicConfig(format='%(asctime)s : %(levelname)s : %(message)s', level=logging.INFO)\n",
    "\n",
    "sentences = word2vec.Text8Corpus(out_path+'雷震.txt')  # 加载语料\n",
    "model = word2vec.Word2Vec(sentences, size=500,hs=1,sg=1,window=3)  \n",
    "model.save_word2vec_format(desktop_path+\"author.model.bin\", binary=True)"
   ]
  },
  {
   "cell_type": "code",
   "execution_count": 17,
   "metadata": {
    "collapsed": false
   },
   "outputs": [
    {
     "name": "stderr",
     "output_type": "stream",
     "text": [
      "2017-01-06 11:32:38,975 : INFO : precomputing L2-norms of word weight vectors\n"
     ]
    },
    {
     "name": "stdout",
     "output_type": "stream",
     "text": [
      "和[美國]最相關的詞有：\n",
      "\n",
      "侵略 0.8022507429122925\n",
      "韓國 0.7685745358467102\n",
      "仇恨 0.7668557167053223\n",
      "輕視 0.7414167523384094\n",
      "滿洲 0.7369207143783569\n",
      "西方 0.7295137047767639\n",
      "援助 0.7240198254585266\n",
      "人 0.7205126881599426\n",
      "幫助 0.7188200950622559\n",
      "某個 0.7113369107246399\n",
      "\n",
      "\n",
      "和[政治]最相關的詞有：\n",
      "\n",
      "憲政 0.8306509256362915\n",
      "多黨 0.820479154586792\n",
      "法治 0.8151346445083618\n",
      "及於 0.8118156790733337\n",
      "奠定 0.8044267296791077\n",
      "原動力 0.803136944770813\n",
      "運行 0.7989235520362854\n",
      "人才 0.7874300479888916\n",
      "政黨政治 0.7869040369987488\n",
      "政制 0.78598552942276\n",
      "\n",
      "\n",
      "和[蘇俄]最相關的詞有：\n",
      "\n",
      "中共 0.8315293192863464\n",
      "全世界 0.8245103359222412\n",
      "世界 0.81402188539505\n",
      "共產 0.8131991624832153\n",
      "共黨 0.8093457221984863\n",
      "侵略 0.8040480613708496\n",
      "共產黨 0.796289324760437\n",
      "崩潰 0.7950185537338257\n",
      "征服 0.7904800176620483\n",
      "西方 0.7901591658592224\n",
      "\n",
      "\n",
      "和[自由]最相關的詞有：\n",
      "\n",
      "自由言論 0.7798780798912048\n",
      "權利 0.7783753871917725\n",
      "宗旨 0.7715815901756287\n",
      "言論 0.766850471496582\n",
      "集會結社 0.7654098868370056\n",
      "半月刊 0.763784646987915\n",
      "爭取 0.7504571676254272\n",
      "雜誌 0.7237825393676758\n",
      "意志 0.7198005318641663\n",
      "講 0.7136387228965759\n",
      "\n",
      "\n",
      "和[可以]最相關的詞有：\n",
      "\n",
      "便 0.8159353137016296\n",
      "試問 0.7800908088684082\n",
      "不但 0.7783978581428528\n",
      "思考 0.7574682831764221\n",
      "顧及 0.7569546103477478\n",
      "或多或少 0.7561715841293335\n",
      "是非曲直 0.7554277777671814\n",
      "不僅 0.75528883934021\n",
      "而且 0.7551214694976807\n",
      "機會 0.7485441565513611\n",
      "\n",
      "\n",
      "和[國家]最相關的詞有：\n",
      "\n",
      "陣營 0.8196367025375366\n",
      "要義 0.8086525797843933\n",
      "標榜 0.8071050047874451\n",
      "奠定 0.7976983189582825\n",
      "附庸 0.7905696630477905\n",
      "真諦 0.790347695350647\n",
      "西方 0.7863298654556274\n",
      "原動力 0.7856089472770691\n",
      "現代 0.7851468324661255\n",
      "特徵 0.7842347621917725\n",
      "\n",
      "\n"
     ]
    }
   ],
   "source": [
    "condicate = ['美國', '政治', '蘇俄', '自由', '可以', '國家']\n",
    "for i in condicate:\n",
    "    find = i\n",
    "    try:\n",
    "        t = model.most_similar(find,topn=10)\n",
    "        print ('和['+find+']最相關的詞有：\\n')\n",
    "        for item in t:\n",
    "            print (item[0],item[1])\n",
    "        print ('\\n')\n",
    "    except:\n",
    "        continue"
   ]
  }
 ],
 "metadata": {
  "kernelspec": {
   "display_name": "Python 3",
   "language": "python",
   "name": "python3"
  },
  "language_info": {
   "codemirror_mode": {
    "name": "ipython",
    "version": 3
   },
   "file_extension": ".py",
   "mimetype": "text/x-python",
   "name": "python",
   "nbconvert_exporter": "python",
   "pygments_lexer": "ipython3",
   "version": "3.5.2"
  }
 },
 "nbformat": 4,
 "nbformat_minor": 0
}
